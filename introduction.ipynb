{
  "cells": [
    {
      "cell_type": "markdown",
      "source": [
        "## Numeryczne Rozwiązywanie Równań Różniczkowych Zwyczajnych\n",
        "### Uniwersytet Jagielloński 2025\n",
        "Katedra Teorii Optymalizacji i Sterowania UJ"
      ],
      "metadata": {
        "id": "qU8WuZMu9lO2"
      }
    },
    {
      "cell_type": "markdown",
      "metadata": {
        "pycharm": {
          "name": "#%% md\n"
        },
        "id": "Vl9mFu7m5pqR"
      },
      "source": [
        "# Podstawy Pythona\n",
        "\n"
      ]
    },
    {
      "cell_type": "markdown",
      "metadata": {
        "pycharm": {
          "name": "#%% md\n"
        },
        "id": "A-PKz2jp5pqV"
      },
      "source": [
        "Python jest językiem interpretowanym, tzn. jest językiem, w którym programy (zwykle) nie są kompilowane do kodu maszynowego, który jest wykonywany, lecz program jest przechowywany w postaci kodu źródłowego i wykonywany przez interpreter języka.<br>\n",
        "Tutaj korzystamy ze środowiska Jupyter, możesz uruchamiać kod zawarty w komórce za pomocą kombinacji `Ctrl+Enter`.\n",
        "Jeżeli masz konto Google, to możesz uruchomić notebooka jupyterowego w Google Colaboratory:"
      ]
    },
    {
      "cell_type": "markdown",
      "metadata": {
        "pycharm": {
          "name": "#%% md\n"
        },
        "id": "EKa1srPs5pqW"
      },
      "source": [
        "### Hello world"
      ]
    },
    {
      "cell_type": "code",
      "execution_count": null,
      "metadata": {
        "pycharm": {
          "name": "#%%\n"
        },
        "id": "iJpm8JML5pqW",
        "outputId": "61c3a2e8-a7cd-4c33-9dbf-433ba807af9d"
      },
      "outputs": [
        {
          "name": "stdout",
          "output_type": "stream",
          "text": [
            "Hello world\n"
          ]
        }
      ],
      "source": [
        "print(\"Hello world\")"
      ]
    },
    {
      "cell_type": "markdown",
      "metadata": {
        "pycharm": {
          "name": "#%% md\n"
        },
        "id": "YBxBY0WU5pqY"
      },
      "source": [
        "Równie dobrze możesz utworzyć plik `skrypt.py` w którym zawrzesz powyższy kod i możesz go uruchomić poleceniem `python skrypt.py`, jeżeli masz zainstalowany interpreter Pythona."
      ]
    },
    {
      "cell_type": "markdown",
      "metadata": {
        "pycharm": {
          "name": "#%% md\n"
        },
        "id": "B9u1C0o-5pqY"
      },
      "source": [
        "### Zmienne"
      ]
    },
    {
      "cell_type": "markdown",
      "metadata": {
        "pycharm": {
          "name": "#%% md\n"
        },
        "id": "oae-oxzL5pqZ"
      },
      "source": [
        "Zmienne nie mają przypisanych typów, możemy w trakcie działania programu przypisywać do nich cokolwiek - raz nasza zmienna `a` przechowuje liczbę, a później ciąg znaków.\n",
        "Czasem może to utrudniać życie, więc można w pewien sposób \"przypisać\" typ - to będzie właściwie informacja dla naszego edytora, czy środowiska programistycznego (żeby np. odpowiednio podpowiadał metody), będzie to ignorowane przez interpreter."
      ]
    },
    {
      "cell_type": "code",
      "execution_count": null,
      "metadata": {
        "pycharm": {
          "name": "#%%\n"
        },
        "id": "6L1ce_pN5pqY",
        "outputId": "21fd45b2-4e16-47f7-dc95-4495f0ba5bdc"
      },
      "outputs": [
        {
          "name": "stdout",
          "output_type": "stream",
          "text": [
            "11\n",
            "ala ma kota\n"
          ]
        }
      ],
      "source": [
        "a = 5\n",
        "b = 6\n",
        "print(a + b)\n",
        "c = \"ala ma\"\n",
        "a = \" kota\"\n",
        "print(c + a)"
      ]
    },
    {
      "cell_type": "markdown",
      "metadata": {
        "pycharm": {
          "name": "#%% md\n"
        },
        "id": "rcoXfHRU5pqZ"
      },
      "source": [
        "### Listy, krotki i słowniki\n",
        "Są to podstawowe struktury danych w Pythonie, przykłady ich są poniżej."
      ]
    },
    {
      "cell_type": "code",
      "execution_count": null,
      "metadata": {
        "pycharm": {
          "name": "#%%\n"
        },
        "id": "X3vVHz685pqa",
        "outputId": "40fb6217-bab4-4d6d-c362-a6d61aeef672"
      },
      "outputs": [
        {
          "name": "stdout",
          "output_type": "stream",
          "text": [
            "[-1, 2, 3, 'kot', 1.5, 666]\n"
          ]
        }
      ],
      "source": [
        "# lista\n",
        "my_list = [1,2,3,\"kot\",3/2]\n",
        "my_list.append(666)\n",
        "my_list[0] = -1\n",
        "print(my_list)"
      ]
    },
    {
      "cell_type": "code",
      "execution_count": null,
      "metadata": {
        "pycharm": {
          "name": "#%%\n"
        },
        "id": "O6l2KJO15pqa",
        "outputId": "596c6b44-5034-4ed6-9b37-39273074f9ba"
      },
      "outputs": [
        {
          "name": "stdout",
          "output_type": "stream",
          "text": [
            "(1, 2, 3, 2)\n"
          ]
        }
      ],
      "source": [
        "# krotka\n",
        "# różni się tym od listy, że jest niemodyfikowalna\n",
        "my_tuple = (1,2,3)\n",
        "# to poniżej nie przejdzie\n",
        "#my_tuple[1] = 10\n",
        "print(my_tuple + (2,)) # ale można krotki np. konkatenować"
      ]
    },
    {
      "cell_type": "code",
      "execution_count": null,
      "metadata": {
        "pycharm": {
          "name": "#%%\n"
        },
        "id": "RBcUwM_k5pqa",
        "outputId": "69ea579c-b8c2-4639-b284-d3d3f7953e8b"
      },
      "outputs": [
        {
          "name": "stdout",
          "output_type": "stream",
          "text": [
            "55\n",
            "None\n",
            "0\n",
            "{'a': 10, 'b': 66, 'c': '', 'd': 5}\n"
          ]
        }
      ],
      "source": [
        "# słownik\n",
        "my_dict = {\"a\" : 55, \"b\" : 66, \"c\": \"\"}\n",
        "print(my_dict[\"a\"])\n",
        "# to poniżej nie przejdzie\n",
        "#print(my_dict[\"d\"])\n",
        "print(my_dict.get(\"d\"))\n",
        "# możemy dać domyślną wartość, która zostanie zwrócona, gdy nie znajdziemy elementu\n",
        "print(my_dict.get(\"d\", 0))\n",
        "my_dict[\"d\"] = 5\n",
        "my_dict[\"a\"] = 10\n",
        "print(my_dict)"
      ]
    },
    {
      "cell_type": "markdown",
      "metadata": {
        "pycharm": {
          "name": "#%% md\n"
        },
        "id": "UMN9F5_e5pqa"
      },
      "source": [
        "### Instrukcje warunkowe i pętle\n",
        "Mamy do dyspozycji pętlę while oraz for-each. Pętlę będą wykonywać kod w bloku (wydzielonym wcięciem!) dopóki warunek będzie spełniony (while) lub są elementy w obiekcie po którym można iterować (for-each)."
      ]
    },
    {
      "cell_type": "code",
      "execution_count": null,
      "metadata": {
        "pycharm": {
          "name": "#%%\n"
        },
        "id": "sbzf7Or25pqb",
        "outputId": "6c361e4c-f647-486d-cfbd-7fd2a10d110e"
      },
      "outputs": [
        {
          "name": "stdout",
          "output_type": "stream",
          "text": [
            "podzielna przez 3\n"
          ]
        }
      ],
      "source": [
        "a = 6\n",
        "if a % 3 == 0:\n",
        "    print(\"podzielna przez 3\")\n",
        "elif a % 5 == 0:\n",
        "    print(\"podzielna przez 5\")\n",
        "else:\n",
        "    print(\"niepodzielna przez 3 ani 5\")"
      ]
    },
    {
      "cell_type": "code",
      "execution_count": null,
      "metadata": {
        "pycharm": {
          "name": "#%%\n"
        },
        "id": "OxAKY7Yb5pqc",
        "outputId": "2694c8ea-4b7f-40b8-a8c7-2083d67e1671"
      },
      "outputs": [
        {
          "name": "stdout",
          "output_type": "stream",
          "text": [
            "[25, 16, 9, 4, 1]\n"
          ]
        }
      ],
      "source": [
        "i = 5\n",
        "my_list_two = list()\n",
        "while i > 0:\n",
        "    my_list_two.append(i*i)\n",
        "    i -= 1\n",
        "print(my_list_two)"
      ]
    },
    {
      "cell_type": "code",
      "execution_count": null,
      "metadata": {
        "pycharm": {
          "name": "#%%\n"
        },
        "id": "rKfLh95q5pqc",
        "outputId": "d573f46b-8351-46bd-fded-eb8c2c0823cd"
      },
      "outputs": [
        {
          "name": "stdout",
          "output_type": "stream",
          "text": [
            "-1\n",
            "2\n",
            "3\n",
            "kot\n",
            "1.5\n",
            "666\n"
          ]
        }
      ],
      "source": [
        "for item in my_list:\n",
        "    print(item)"
      ]
    },
    {
      "cell_type": "code",
      "execution_count": null,
      "metadata": {
        "pycharm": {
          "name": "#%%\n"
        },
        "id": "fgYanWZC5pqd",
        "outputId": "c83397d4-1634-4f49-e8c7-91ab8e2176bb"
      },
      "outputs": [
        {
          "name": "stdout",
          "output_type": "stream",
          "text": [
            "0\n",
            "1\n",
            "4\n",
            "9\n",
            "16\n"
          ]
        }
      ],
      "source": [
        "for i in range(5):\n",
        "    print(i*i)"
      ]
    },
    {
      "cell_type": "code",
      "execution_count": null,
      "metadata": {
        "pycharm": {
          "name": "#%%\n"
        },
        "id": "Aa2H1pCa5pqd",
        "outputId": "e2d01541-bda9-4642-afe1-8f06e4aa03d9"
      },
      "outputs": [
        {
          "name": "stdout",
          "output_type": "stream",
          "text": [
            "9\n",
            "16\n"
          ]
        }
      ],
      "source": [
        "for i in range(3,5):\n",
        "    print(i*i)"
      ]
    },
    {
      "cell_type": "markdown",
      "metadata": {
        "pycharm": {
          "name": "#%% md\n"
        },
        "id": "tNogJI_y5pqe"
      },
      "source": [
        "### Funkcje\n",
        "To jak działa funkcja powinno być w miarę jasne :) Po znaku równości jest podana wartość domyślna. Więc podam tylko przykład:"
      ]
    },
    {
      "cell_type": "code",
      "execution_count": null,
      "metadata": {
        "pycharm": {
          "name": "#%%\n"
        },
        "id": "-k4MMKch5pqe",
        "outputId": "29fb724e-2591-4cea-c62e-cb1db80ca5c3"
      },
      "outputs": [
        {
          "name": "stdout",
          "output_type": "stream",
          "text": [
            "[0, 1, 4, 9, 16, 25, 36, 49, 64, 81]\n",
            "[0, 1, 4, 9, 16]\n"
          ]
        }
      ],
      "source": [
        "def list_of_squares(a = 10):\n",
        "    return [x ** 2 for x in range(a)]\n",
        "print(list_of_squares())\n",
        "print(list_of_squares(5))"
      ]
    },
    {
      "cell_type": "code",
      "execution_count": null,
      "metadata": {
        "pycharm": {
          "name": "#%%\n"
        },
        "id": "R6z5Vpu-5pqf",
        "outputId": "e33a7f45-cecb-40ce-f1cc-8c5ecc44d562"
      },
      "outputs": [
        {
          "name": "stdout",
          "output_type": "stream",
          "text": [
            "-1\n",
            "-3\n",
            "8\n"
          ]
        }
      ],
      "source": [
        "#różnica 2 liczb\n",
        "def substract(a, b=5):\n",
        "    return a-b\n",
        "print(substract(2,3))\n",
        "print(substract(2))\n",
        "print(substract(b=2, a=10))"
      ]
    },
    {
      "cell_type": "markdown",
      "metadata": {
        "pycharm": {
          "name": "#%% md\n"
        },
        "id": "8h8MEwhn5pqf"
      },
      "source": [
        "### Klasy i obiekty"
      ]
    },
    {
      "cell_type": "code",
      "execution_count": null,
      "metadata": {
        "pycharm": {
          "name": "#%%\n"
        },
        "id": "jnC00BT35pqf",
        "outputId": "ff84639c-8390-43c2-f09a-0b7071c03d04"
      },
      "outputs": [
        {
          "name": "stdout",
          "output_type": "stream",
          "text": [
            "I am static mathod\n",
            "Brum, brum\n",
            "Brum, brum\n",
            "Brum, brum\n",
            "Brum, brum\n",
            "Brum, brum\n",
            "Brum, brum\n",
            "Brum, brum\n",
            "Brum, brum\n",
            "Brum, brum\n",
            "Brum, brum\n",
            "John Doe\n"
          ]
        }
      ],
      "source": [
        "class Person:\n",
        "    def __init__(self, name, surname):\n",
        "        self.name = name\n",
        "        self.surname = surname\n",
        "\n",
        "class Car:\n",
        "    def __init__(self, owner: Person, colour = \"black\", max_speed = 100, brand = \"Volvo\"):\n",
        "        self.colour = colour\n",
        "        self.max_speed = max_speed\n",
        "        self.owner = owner\n",
        "        self.brand = brand\n",
        "\n",
        "    def run(self):\n",
        "        for i in range(self.max_speed // 10):\n",
        "            print(\"Brum, brum\")\n",
        "\n",
        "    def print_owner(self):\n",
        "        print(self.owner.name + \" \" + self.owner.surname)\n",
        "\n",
        "    @staticmethod\n",
        "    def some_static():\n",
        "        return \"I am static mathod\"\n",
        "\n",
        "print(Car.some_static())\n",
        "john = Person(\"John\", \"Doe\")\n",
        "car = Car (john, \"yellow\")\n",
        "car.run()\n",
        "car.print_owner()"
      ]
    },
    {
      "cell_type": "markdown",
      "metadata": {
        "pycharm": {
          "name": "#%% md\n"
        },
        "id": "_i9wJgMI5pqf"
      },
      "source": [
        "Metoda `__init__()` jest jedną z metod magicznych (https://rszalski.github.io/magicmethods/) - jest tu konstruktorem. <br>\n",
        "Jedna z metod w klasie Car (`some_static()`) jest metodą statyczną - czyli metodą niepowiązaną z obiektem danej klasy. Metody statyczne oznacza się tzw. dekoratorem `@staticmethod`. Pozostałe metody przy wywołaniu `obiekt.metoda()` mają zaaplikownay obiekt jako 1 argument tzn., że wywołanie `obiekt.metoda(argument)` jest równoważne `Klasa.metoda(obiekt,argument)`."
      ]
    },
    {
      "cell_type": "code",
      "execution_count": null,
      "metadata": {
        "pycharm": {
          "name": "#%%\n"
        },
        "id": "fybrNDEn5pqf"
      },
      "outputs": [],
      "source": [
        "class A:\n",
        "    pass\n",
        "\n",
        "class B:\n",
        "    pass\n",
        "\n",
        "class C(A,B):\n",
        "    pass"
      ]
    },
    {
      "cell_type": "markdown",
      "metadata": {
        "pycharm": {
          "name": "#%% md\n"
        },
        "id": "-YE7vW545pqg"
      },
      "source": [
        "`pass` oznacza instrukcję, która nie orbi nic. Python obsługuje dziedziczenie klas, w tym dziedziczenie wielokrotne - klasa A w przykładzie powyżej dziedziczy jednocześnie po A i B."
      ]
    },
    {
      "cell_type": "markdown",
      "source": [
        "# Scientific Python = NumPy"
      ],
      "metadata": {
        "id": "4LPeKb_T-0Tr"
      }
    },
    {
      "cell_type": "markdown",
      "metadata": {
        "collapsed": true,
        "pycharm": {
          "name": "#%% md\n"
        },
        "id": "K-hJc-jZ5p3e"
      },
      "source": [
        "Numpy to podstawowa biblioteka do obliczeń naukowych w Pythonie. Jeżeli masz zainstalowany interpreter Pythona i menedżer pakietów pip, to możesz zainstalować numpy za pomocą: pip install numpy. W Google Collaboratory ten pakiet jest domyślnie zainstalowany.\n",
        "Podstawowym obiektem używanym w pakiecie numpy jest ndarray. Jest to wydajna wielowymiarowa tablica."
      ]
    },
    {
      "cell_type": "code",
      "source": [
        "import numpy as np"
      ],
      "metadata": {
        "id": "MjFAHnr7-6Pl"
      },
      "execution_count": null,
      "outputs": []
    },
    {
      "cell_type": "code",
      "execution_count": null,
      "outputs": [
        {
          "name": "stdout",
          "output_type": "stream",
          "text": [
            "(3,)\n",
            "1 2 3\n",
            "[5 2 3]\n",
            "========b========\n",
            "(2, 3)\n",
            "[[1 2 3]\n",
            " [4 5 6]]\n",
            "1 2\n"
          ]
        }
      ],
      "source": [
        "a = np.array([1, 2, 3])   # Tworzy tablicę wymiaru 1 o wartościcach 1, 2, 3\n",
        "print(a.shape) # zwraca krotkę z rozmiarem tablicy w każdym wymiarze\n",
        "print(a[0], a[1], a[2])\n",
        "a[0] = 5\n",
        "print(a)\n",
        "\n",
        "print(\"========b========\")\n",
        "b = np.array([[1,2,3],[4,5,6]])\n",
        "print(b.shape)\n",
        "print(b)\n",
        "print(b[0, 0], b[0, 1])"
      ],
      "metadata": {
        "pycharm": {
          "name": "#%%\n"
        },
        "id": "qaujXglo5p3f",
        "outputId": "cb64de33-adf7-4f01-a96a-70d83f9a340d"
      }
    },
    {
      "cell_type": "markdown",
      "source": [
        "Na tablicach wielowymiarowych można wykonywać operacje cięcia (slicing) jak np.:"
      ],
      "metadata": {
        "collapsed": false,
        "pycharm": {
          "name": "#%% md\n"
        },
        "id": "ySdv83Ra5p3g"
      }
    },
    {
      "cell_type": "code",
      "execution_count": null,
      "outputs": [
        {
          "name": "stdout",
          "output_type": "stream",
          "text": [
            "[1 2 3]\n",
            "[ 1  4  7 10]\n",
            "[[4 5 6]\n",
            " [7 8 9]]\n",
            "[[ 7  8  9]\n",
            " [10 11 12]]\n",
            "[[1 2 3]\n",
            " [4 5 6]\n",
            " [7 8 9]]\n"
          ]
        }
      ],
      "source": [
        "b = np.array([[1,2,3],[4,5,6], [7,8,9], [10,11,12]])\n",
        "print(b[0,:]) # wiersz o indeksie 0\n",
        "print(b[:,0]) # kolumna o indekcie 0\n",
        "print(b[1:3,:]) # wiersze od #1 do #3 (bez #3)\n",
        "print(b[2:,:]) # wiersze od #2 do ostatniego\n",
        "print(b[:3,:]) # wiersze od #0 do #3 (bez #3)"
      ],
      "metadata": {
        "pycharm": {
          "name": "#%%\n"
        },
        "id": "VVC18uHp5p3h",
        "outputId": "2569fcb3-43b3-4a55-a3eb-2652900ad87c"
      }
    },
    {
      "cell_type": "markdown",
      "source": [
        "Istnieje kilka metod pozwalających stworzyć tablice o określonych właściwościach jak np.:"
      ],
      "metadata": {
        "collapsed": false,
        "pycharm": {
          "name": "#%% md\n"
        },
        "id": "zZxR78W25p3h"
      }
    },
    {
      "cell_type": "code",
      "execution_count": null,
      "outputs": [
        {
          "name": "stdout",
          "output_type": "stream",
          "text": [
            "[[0. 0.]\n",
            " [0. 0.]]\n",
            "[[1. 1.]\n",
            " [1. 1.]]\n",
            "[[3 3]\n",
            " [3 3]]\n",
            "[[1. 0.]\n",
            " [0. 1.]]\n",
            "[0 1 2 3 4 5 6 7 8 9]\n"
          ]
        }
      ],
      "source": [
        "a = np.zeros((2,2))\n",
        "print(a)\n",
        "\n",
        "b = np.ones((2,2))\n",
        "print(b)\n",
        "\n",
        "c = np.full((2,2), 3)\n",
        "print(c)\n",
        "\n",
        "d = np.eye(2)\n",
        "print(d)\n",
        "\n",
        "e = np.arange(10)\n",
        "print(e)"
      ],
      "metadata": {
        "pycharm": {
          "name": "#%%\n"
        },
        "id": "jyKXtKfm5p3h",
        "outputId": "ad8f278b-6d8c-4c4d-d63d-4415c19465a1"
      }
    },
    {
      "cell_type": "markdown",
      "source": [
        "### Operacje na tablicach numpy'owych"
      ],
      "metadata": {
        "collapsed": false,
        "pycharm": {
          "name": "#%% md\n"
        },
        "id": "kqfTpBMh5p3i"
      }
    },
    {
      "cell_type": "code",
      "execution_count": null,
      "outputs": [
        {
          "name": "stdout",
          "output_type": "stream",
          "text": [
            "[[ 6.  8.]\n",
            " [10. 12.]]\n",
            "[[ 5. 12.]\n",
            " [21. 32.]]\n",
            "[[19. 22.]\n",
            " [43. 50.]]\n",
            "[[19. 22.]\n",
            " [43. 50.]]\n",
            "[[1. 3.]\n",
            " [2. 4.]]\n",
            "[[1.         1.41421356]\n",
            " [1.73205081 2.        ]]\n"
          ]
        }
      ],
      "source": [
        "x = np.array([[1,2],[3,4]], dtype=np.float64)\n",
        "y = np.array([[5,6],[7,8]], dtype=np.float64)\n",
        "\n",
        "print(x + y) # dodawanie macierzy\n",
        "\n",
        "print(x * y) # mnożenie tzw. element-wise\n",
        "\n",
        "print(x @ y) # mnożenie macierzowe\n",
        "print(x.dot(y)) # alternatywne mnożenie macierzowe\n",
        "\n",
        "print(x.T) # transponowanie macierzy\n",
        "\n",
        "print(np.sqrt(x)) # zadziałanie jakąś funkcją matematyczną przyjmującą jedną liczbę na tablicy sprawi, że zostanie zwrócony wynik na jej każdym elemencie"
      ],
      "metadata": {
        "pycharm": {
          "name": "#%%\n"
        },
        "id": "okMj8JSF5p3i",
        "outputId": "1c4fc055-9a50-483a-ea1a-d88eb9333d34"
      }
    },
    {
      "cell_type": "markdown",
      "source": [
        "### Broadcasting\n",
        "Broadcasting to potężny mechanizm, który pozwala numpy pracować z tablicami o różnych kształtach podczas wykonywania operacji arytmetycznych. Często mamy mniejszą tablicę i większą tablicę, a chcemy użyć mniejszej tablicy wiele razy, aby wykonać jakąś operację na tej większej."
      ],
      "metadata": {
        "collapsed": false,
        "pycharm": {
          "name": "#%% md\n"
        },
        "id": "nA_Kb65I5p3j"
      }
    },
    {
      "cell_type": "code",
      "execution_count": null,
      "outputs": [
        {
          "name": "stdout",
          "output_type": "stream",
          "text": [
            "[[2. 3. 4.]\n",
            " [2. 3. 4.]\n",
            " [2. 3. 4.]]\n",
            "[[1]\n",
            " [2]\n",
            " [3]]\n",
            "[[2. 2. 2.]\n",
            " [3. 3. 3.]\n",
            " [4. 4. 4.]]\n"
          ]
        }
      ],
      "source": [
        "a = np.ones((3,3))\n",
        "b = np.array([1,2,3])\n",
        "print(a+b)\n",
        "print(b.reshape(-1,1))\n",
        "print(a+b.reshape(-1,1))"
      ],
      "metadata": {
        "pycharm": {
          "name": "#%%\n"
        },
        "id": "FV8pW8Kg5p3k",
        "outputId": "521414a8-84eb-4f20-886a-adf609e7fc56"
      }
    },
    {
      "cell_type": "markdown",
      "source": [
        "# Presenting Results = Matplotlib"
      ],
      "metadata": {
        "id": "SnCEn4PKAAPG"
      }
    },
    {
      "cell_type": "markdown",
      "metadata": {
        "collapsed": true,
        "pycharm": {
          "name": "#%% md\n"
        },
        "id": "1MhD4pX75qoy"
      },
      "source": [
        "Matplotlib ject biblioteką umożliwiającą rysowanie wykresów w Pythonie. Przedstawie jej kilka możliwości. Importujemy ją w następujący sposób:"
      ]
    },
    {
      "cell_type": "code",
      "execution_count": null,
      "metadata": {
        "pycharm": {
          "name": "#%%\n"
        },
        "id": "T-e02yD15qo2"
      },
      "outputs": [],
      "source": [
        "import matplotlib.pyplot as plt\n",
        "import numpy as np"
      ]
    },
    {
      "cell_type": "markdown",
      "metadata": {
        "pycharm": {
          "name": "#%% md\n"
        },
        "id": "D7Vsnoe-5qo3"
      },
      "source": [
        "### Wykresy 2D"
      ]
    },
    {
      "cell_type": "code",
      "execution_count": null,
      "metadata": {
        "pycharm": {
          "name": "#%%\n"
        },
        "id": "PGUsUOou5qo4",
        "outputId": "fd22691f-47a6-498b-d980-bc09f0a56338"
      },
      "outputs": [
        {
          "data": {
            "text/plain": [
              "Text(0.5, 1.0, 'Jakiś wykres')"
            ]
          },
          "execution_count": 17,
          "metadata": {},
          "output_type": "execute_result"
        },
        {
          "data": {
            "image/png": "[encoded data removed]",
            "text/plain": [
              "<Figure size 432x288 with 1 Axes>"
            ]
          },
          "metadata": {
            "needs_background": "light"
          },
          "output_type": "display_data"
        }
      ],
      "source": [
        "x = np.arange(0,11)\n",
        "# wykres punktowy\n",
        "plt.scatter(x, [1,2,2.5,3,2.5,2,1,2,2,4,3.5], c=\"red\")\n",
        "# wykres liniowy\n",
        "plt.plot(x, [2,2.1,2.2,2.5,2.8,2.9,3,3,3,3,2.9])\n",
        "\n",
        "x = np.linspace(0,10,100)\n",
        "def f(x):\n",
        "    return np.sin(x - np.pi) + 1.5\n",
        "# Kilkukrotnie wywołując funkcję rysującą w jednej komórce nanosimy wszystko na jeden wykres\n",
        "plt.plot(x, f(x), c=\"green\")\n",
        "\n",
        "plt.ylim([0,5]) # Możemy ustawić zakres osi (opcjonalnie), jest też analogiczne polecenie xlim\n",
        "plt.ylabel(\"Wartości\")\n",
        "plt.xlabel(\"Argumenty\")\n",
        "plt.title(\"Jakiś wykres\")"
      ]
    },
    {
      "cell_type": "markdown",
      "source": [
        "# Zadania\n",
        "\n",
        "1. Napisz jednoargumentową funkcję w Pythonie, która będzie zwracać true, gdy liczba podana jako argument będzie pierwsza lub false w przeciwnym wypadku. Używając tej funkcji napisz list comprehention, które wygeneruje tablicę liczb pierwszych mniejszych od 100. Wskazówka: range(100) zwróci generator liczb od 0 do 99 włącznie.\n",
        "2. Napisz funkcję, która dla danej tablicy numpy'owej zwróci drugą co do wielkości wartość. (Mogą się przydać takie funkcje jak np.max, czy np.where)\n",
        "3. Napisz funkcję używającą numpy, która obliczy przybliżone odwrócenie macierzy korzystając z np.linalg.solve, które służy do rozwiązywania układów równań liniowych i macierzowych.\n",
        "4. Używając broadcastingu napisz funkcję przyjmującą argument n, która wygeneruje tabliczkę mnożenia n na n w postaci tablicy numpy'owej."
      ],
      "metadata": {
        "collapsed": false,
        "pycharm": {
          "name": "#%% md\n"
        },
        "id": "EVWgxUW65p3l"
      }
    },
    {
      "cell_type": "code",
      "source": [
        "#include sympy\n",
        "#include numpy as np\n",
        "\n",
        "def is_prime(number):\n",
        "  return sympy.isprime()\n",
        "\n",
        "def second_\n"
      ],
      "metadata": {
        "id": "1v4cBrgTAI2A"
      },
      "execution_count": null,
      "outputs": []
    }
  ],
  "metadata": {
    "kernelspec": {
      "display_name": "Python 3",
      "language": "python",
      "name": "python3"
    },
    "language_info": {
      "codemirror_mode": {
        "name": "ipython",
        "version": 3
      },
      "file_extension": ".py",
      "mimetype": "text/x-python",
      "name": "python",
      "nbconvert_exporter": "python",
      "pygments_lexer": "ipython3",
      "version": "3.7.1"
    },
    "colab": {
      "provenance": []
    }
  },
  "nbformat": 4,
  "nbformat_minor": 0
}