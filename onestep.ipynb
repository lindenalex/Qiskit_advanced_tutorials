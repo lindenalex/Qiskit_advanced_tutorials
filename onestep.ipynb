{
  "nbformat": 4,
  "nbformat_minor": 0,
  "metadata": {
    "colab": {
      "name": "onestep.ipynb",
      "provenance": [],
      "include_colab_link": true
    },
    "kernelspec": {
      "name": "python3",
      "display_name": "Python 3"
    }
  },
  "cells": [
    {
      "cell_type": "markdown",
      "metadata": {
        "id": "view-in-github",
        "colab_type": "text"
      },
      "source": [
        "<a href=\"https://colab.research.google.com/github/lindenalex/Qiskit_advanced_tutorials/blob/main/onestep.ipynb\" target=\"_parent\"><img src=\"https://colab.research.google.com/assets/colab-badge.svg\" alt=\"Open In Colab\"/></a>"
      ]
    },
    {
      "cell_type": "markdown",
      "metadata": {
        "id": "IWuOh5GQ347_"
      },
      "source": [
        "## Numeryczne Rozwiązywanie Rónań Różniczkowych Zwyczajnych\n",
        "### Uniwersytet Jagielloński 2023\n",
        "Katedra Teorii Optymalizacji i Sterowania UJ"
      ]
    },
    {
      "cell_type": "code",
      "metadata": {
        "id": "Q9umRbG8QnQY"
      },
      "source": [
        "import numpy as np\n",
        "import matplotlib.pyplot as plt"
      ],
      "execution_count": 2,
      "outputs": []
    },
    {
      "cell_type": "markdown",
      "metadata": {
        "id": "61jUgF2Q4F20"
      },
      "source": [
        "## Rozwiązania"
      ]
    },
    {
      "cell_type": "code",
      "metadata": {
        "id": "R2uV2I0hOHR0"
      },
      "source": [
        "# def open_euler(f, t, x0, t0):\n",
        "#     n = len(t)\n",
        "#     x = np.zeros_like(t)\n",
        "\n",
        "#     idx = np.argmin(np.abs(t - t0))\n",
        "#     x[idx] = x0\n",
        "\n",
        "#     for i in range(idx, n-1):\n",
        "#         h = t[i+1] - t[i]\n",
        "#         x[i+1] = x[i] + h * f(t[i], x[i])\n",
        "\n",
        "#     for i in range(idx, 0, -1):\n",
        "#         h = t[i] - t[i-1]\n",
        "#         x[i-1] = x[i] - h * f(t[i-1], x[i-1])\n",
        "\n",
        "#     return x\n",
        "\n",
        "import numpy as np\n",
        "import matplotlib.pyplot as plt\n",
        "\n",
        "\n",
        "def open_euler(f, x0, t0, T, h):\n",
        "    if T < t0:\n",
        "        raise ValueError(\"Final time T must be greater than or equal to initial time t0.\")\n",
        "    if h <= 0:\n",
        "        raise ValueError(\"Step size h must be positive.\")\n",
        "\n",
        "    t = t0\n",
        "    x = x0\n",
        "    t_values = [t]\n",
        "    x_values = [x]\n",
        "\n",
        "    # March forward in time\n",
        "    while t < T:\n",
        "        h_eff = h if t + h <= T else T - t\n",
        "        x = x + h_eff * f(t, x)\n",
        "        t = t + h_eff\n",
        "        t_values.append(t)\n",
        "        x_values.append(x)\n",
        "\n",
        "    return t_values, x_values"
      ],
      "execution_count": 113,
      "outputs": []
    },
    {
      "cell_type": "code",
      "execution_count": 8,
      "outputs": [],
      "source": [
        "def heun(f, t, x0, t0):\n",
        "    n = len(t)\n",
        "    if hasattr(x0, \"__len__\"):\n",
        "        x = np.zeros((n, len(x0)))\n",
        "    else:\n",
        "        x = np.zeros(n)\n",
        "\n",
        "    idx = np.argmin(np.abs(t - t0))\n",
        "    x[idx] = x0\n",
        "\n",
        "    for i in range(idx, n-1):\n",
        "        h = t[i+1] - t[i]\n",
        "        k1 = f(t[i], x[i])\n",
        "        x_pred = x[i] + h * k1\n",
        "\n",
        "        k2 = f(t[i+1], x_pred)\n",
        "        x[i+1] = x[i] + h * (k1 + k2) / 2\n",
        "\n",
        "    for i in range(idx, 0, -1):\n",
        "        h = t[i] - t[i-1]\n",
        "\n",
        "        # Predictor\n",
        "        k1 = f(t[i], x[i])\n",
        "        x_pred = x[i] - h * k1\n",
        "\n",
        "        # Corrector\n",
        "        k2 = f(t[i-1], x_pred)\n",
        "        x[i-1] = x[i] - h * (k1 + k2) / 2\n",
        "\n",
        "    return x"
      ],
      "metadata": {
        "id": "WV2QhFDkHoHl"
      }
    },
    {
      "cell_type": "code",
      "execution_count": 14,
      "outputs": [],
      "source": [
        "def modified_euler(f, t, x0, t0):\n",
        "    t = np.asarray(t)\n",
        "    N = len(t)\n",
        "    x0 = np.asarray(x0)\n",
        "\n",
        "    x = np.zeros((N,) + x0.shape, dtype=x0.dtype)\n",
        "    x[0] = x0\n",
        "\n",
        "    for i in range(N - 1):\n",
        "        h = t[i+1] - t[i]\n",
        "        k1 = f(t[i], x[i])\n",
        "        x_mid = x[i] + (h/2) * k1\n",
        "        k2 = f(t[i] + h/2, x_mid)\n",
        "        x[i+1] = x[i] + h * k2\n",
        "\n",
        "    return x"
      ],
      "metadata": {
        "id": "dvJorUm9HoHm"
      }
    },
    {
      "cell_type": "code",
      "execution_count": 17,
      "outputs": [],
      "source": [
        "def rk4(f, t, x0, t0):\n",
        "    t = np.asarray(t)\n",
        "    N = len(t)\n",
        "    x0 = np.asarray(x0)\n",
        "\n",
        "    x = np.zeros((N,) + x0.shape, dtype=x0.dtype)\n",
        "    x[0] = x0\n",
        "\n",
        "    for i in range(N - 1):\n",
        "        h = t[i+1] - t[i]\n",
        "        ti, xi = t[i], x[i]\n",
        "\n",
        "        k1 = f(ti, xi)\n",
        "        k2 = f(ti + h/2, xi + (h/2) * k1)\n",
        "        k3 = f(ti + h/2, xi + (h/2) * k2)\n",
        "        k4 = f(ti + h,   xi + h * k3)\n",
        "\n",
        "        x[i+1] = xi + (h/6) * (k1 + 2*k2 + 2*k3 + k4)\n",
        "\n",
        "    return x"
      ],
      "metadata": {
        "id": "Z8F-gbncHoHn"
      }
    },
    {
      "cell_type": "markdown",
      "metadata": {
        "id": "a9WAlMl85aOY"
      },
      "source": [
        "## Przypadek testowy\n",
        "Proszę zaimplementować fukcję kwadratową i porónać rozwiązanie dokładne z numerycznym"
      ]
    },
    {
      "cell_type": "code",
      "metadata": {
        "id": "heGSbr7g5jZy"
      },
      "source": [
        "x0 = 0.\n",
        "t0 = 0.\n",
        "T = 1\n",
        "n = 100\n",
        "h = 0.01\n",
        "\n",
        "def exact(t):\n",
        "    return t ** 2\n",
        "\n",
        "def f(t, x):\n",
        "    return 2 * t\n",
        "\n",
        "t_range = (t0, 1)\n",
        "t = np.linspace(t_range[0], t_range[1], n)\n"
      ],
      "execution_count": 105,
      "outputs": []
    },
    {
      "cell_type": "code",
      "execution_count": 106,
      "outputs": [
        {
          "output_type": "stream",
          "name": "stdout",
          "text": [
            "CPU times: user 57 µs, sys: 0 ns, total: 57 µs\n",
            "Wall time: 60.1 µs\n"
          ]
        }
      ],
      "source": [
        "%%time\n",
        "x_euler = open_euler(f, x0, t0, T, h)"
      ],
      "metadata": {
        "id": "EQwk1iP3HoHs",
        "outputId": "0ae6d8cf-0854-49f0-aaef-f2c283f431cf",
        "colab": {
          "base_uri": "https://localhost:8080/"
        }
      }
    },
    {
      "cell_type": "code",
      "execution_count": 11,
      "outputs": [
        {
          "output_type": "stream",
          "name": "stdout",
          "text": [
            "CPU times: user 1 ms, sys: 0 ns, total: 1 ms\n",
            "Wall time: 875 µs\n"
          ]
        }
      ],
      "source": [
        "%%time\n",
        "x_heun = heun(f, t, x0, t0)"
      ],
      "metadata": {
        "id": "s4EPuSSfHoHt",
        "outputId": "c78f6ea8-3c44-4879-bb35-e410695b449e",
        "colab": {
          "base_uri": "https://localhost:8080/"
        }
      }
    },
    {
      "cell_type": "code",
      "execution_count": 15,
      "outputs": [
        {
          "output_type": "stream",
          "name": "stdout",
          "text": [
            "CPU times: user 283 µs, sys: 0 ns, total: 283 µs\n",
            "Wall time: 290 µs\n"
          ]
        }
      ],
      "source": [
        "%%time\n",
        "x_mod = modified_euler(f, t, x0, t0)"
      ],
      "metadata": {
        "id": "WJwNjnveHoHv",
        "outputId": "2ce0086a-ea0c-48b6-a5b9-1cb9fce58c50",
        "colab": {
          "base_uri": "https://localhost:8080/"
        }
      }
    },
    {
      "cell_type": "code",
      "execution_count": 18,
      "outputs": [
        {
          "output_type": "stream",
          "name": "stdout",
          "text": [
            "CPU times: user 379 µs, sys: 0 ns, total: 379 µs\n",
            "Wall time: 385 µs\n"
          ]
        }
      ],
      "source": [
        "%%time\n",
        "x_rk4 = rk4(f, t, x0, t0)"
      ],
      "metadata": {
        "id": "PA38NjFQHoHx",
        "outputId": "65f931eb-fc3b-4e0d-a7d9-5096e37decd1",
        "colab": {
          "base_uri": "https://localhost:8080/"
        }
      }
    },
    {
      "cell_type": "code",
      "execution_count": 108,
      "outputs": [
        {
          "output_type": "error",
          "ename": "ValueError",
          "evalue": "x and y must have same first dimension, but have shapes (100,) and (101,)",
          "traceback": [
            "\u001b[0;31m---------------------------------------------------------------------------\u001b[0m",
            "\u001b[0;31mValueError\u001b[0m                                Traceback (most recent call last)",
            "\u001b[0;32m<ipython-input-108-3f57db7ae040>\u001b[0m in \u001b[0;36m<cell line: 0>\u001b[0;34m()\u001b[0m\n\u001b[0;32m----> 1\u001b[0;31m \u001b[0mplt\u001b[0m\u001b[0;34m.\u001b[0m\u001b[0mplot\u001b[0m\u001b[0;34m(\u001b[0m\u001b[0mt\u001b[0m\u001b[0;34m,\u001b[0m \u001b[0mx_euler\u001b[0m\u001b[0;34m,\u001b[0m \u001b[0mcolor\u001b[0m\u001b[0;34m=\u001b[0m\u001b[0;34m\"olive\"\u001b[0m\u001b[0;34m)\u001b[0m\u001b[0;34m\u001b[0m\u001b[0;34m\u001b[0m\u001b[0m\n\u001b[0m\u001b[1;32m      2\u001b[0m \u001b[0mplt\u001b[0m\u001b[0;34m.\u001b[0m\u001b[0mplot\u001b[0m\u001b[0;34m(\u001b[0m\u001b[0mt\u001b[0m\u001b[0;34m,\u001b[0m \u001b[0mx_heun\u001b[0m\u001b[0;34m,\u001b[0m \u001b[0mcolor\u001b[0m\u001b[0;34m=\u001b[0m\u001b[0;34m\"cyan\"\u001b[0m\u001b[0;34m)\u001b[0m\u001b[0;34m\u001b[0m\u001b[0;34m\u001b[0m\u001b[0m\n\u001b[1;32m      3\u001b[0m \u001b[0mplt\u001b[0m\u001b[0;34m.\u001b[0m\u001b[0mplot\u001b[0m\u001b[0;34m(\u001b[0m\u001b[0mt\u001b[0m\u001b[0;34m,\u001b[0m \u001b[0mx_mod\u001b[0m\u001b[0;34m,\u001b[0m \u001b[0mcolor\u001b[0m\u001b[0;34m=\u001b[0m\u001b[0;34m\"pink\"\u001b[0m\u001b[0;34m)\u001b[0m\u001b[0;34m\u001b[0m\u001b[0;34m\u001b[0m\u001b[0m\n\u001b[1;32m      4\u001b[0m \u001b[0mplt\u001b[0m\u001b[0;34m.\u001b[0m\u001b[0mplot\u001b[0m\u001b[0;34m(\u001b[0m\u001b[0mt\u001b[0m\u001b[0;34m,\u001b[0m \u001b[0mx_rk4\u001b[0m\u001b[0;34m,\u001b[0m \u001b[0mcolor\u001b[0m\u001b[0;34m=\u001b[0m\u001b[0;34m\"green\"\u001b[0m\u001b[0;34m)\u001b[0m\u001b[0;34m\u001b[0m\u001b[0;34m\u001b[0m\u001b[0m\n\u001b[1;32m      5\u001b[0m \u001b[0mplt\u001b[0m\u001b[0;34m.\u001b[0m\u001b[0mplot\u001b[0m\u001b[0;34m(\u001b[0m\u001b[0mt\u001b[0m\u001b[0;34m,\u001b[0m \u001b[0mexact\u001b[0m\u001b[0;34m(\u001b[0m\u001b[0mt\u001b[0m\u001b[0;34m)\u001b[0m\u001b[0;34m,\u001b[0m \u001b[0mcolor\u001b[0m\u001b[0;34m=\u001b[0m\u001b[0;34m\"red\"\u001b[0m\u001b[0;34m)\u001b[0m\u001b[0;34m\u001b[0m\u001b[0;34m\u001b[0m\u001b[0m\n",
            "\u001b[0;32m/usr/local/lib/python3.11/dist-packages/matplotlib/pyplot.py\u001b[0m in \u001b[0;36mplot\u001b[0;34m(scalex, scaley, data, *args, **kwargs)\u001b[0m\n\u001b[1;32m   3827\u001b[0m     \u001b[0;34m**\u001b[0m\u001b[0mkwargs\u001b[0m\u001b[0;34m,\u001b[0m\u001b[0;34m\u001b[0m\u001b[0;34m\u001b[0m\u001b[0m\n\u001b[1;32m   3828\u001b[0m ) -> list[Line2D]:\n\u001b[0;32m-> 3829\u001b[0;31m     return gca().plot(\n\u001b[0m\u001b[1;32m   3830\u001b[0m         \u001b[0;34m*\u001b[0m\u001b[0margs\u001b[0m\u001b[0;34m,\u001b[0m\u001b[0;34m\u001b[0m\u001b[0;34m\u001b[0m\u001b[0m\n\u001b[1;32m   3831\u001b[0m         \u001b[0mscalex\u001b[0m\u001b[0;34m=\u001b[0m\u001b[0mscalex\u001b[0m\u001b[0;34m,\u001b[0m\u001b[0;34m\u001b[0m\u001b[0;34m\u001b[0m\u001b[0m\n",
            "\u001b[0;32m/usr/local/lib/python3.11/dist-packages/matplotlib/axes/_axes.py\u001b[0m in \u001b[0;36mplot\u001b[0;34m(self, scalex, scaley, data, *args, **kwargs)\u001b[0m\n\u001b[1;32m   1775\u001b[0m         \"\"\"\n\u001b[1;32m   1776\u001b[0m         \u001b[0mkwargs\u001b[0m \u001b[0;34m=\u001b[0m \u001b[0mcbook\u001b[0m\u001b[0;34m.\u001b[0m\u001b[0mnormalize_kwargs\u001b[0m\u001b[0;34m(\u001b[0m\u001b[0mkwargs\u001b[0m\u001b[0;34m,\u001b[0m \u001b[0mmlines\u001b[0m\u001b[0;34m.\u001b[0m\u001b[0mLine2D\u001b[0m\u001b[0;34m)\u001b[0m\u001b[0;34m\u001b[0m\u001b[0;34m\u001b[0m\u001b[0m\n\u001b[0;32m-> 1777\u001b[0;31m         \u001b[0mlines\u001b[0m \u001b[0;34m=\u001b[0m \u001b[0;34m[\u001b[0m\u001b[0;34m*\u001b[0m\u001b[0mself\u001b[0m\u001b[0;34m.\u001b[0m\u001b[0m_get_lines\u001b[0m\u001b[0;34m(\u001b[0m\u001b[0mself\u001b[0m\u001b[0;34m,\u001b[0m \u001b[0;34m*\u001b[0m\u001b[0margs\u001b[0m\u001b[0;34m,\u001b[0m \u001b[0mdata\u001b[0m\u001b[0;34m=\u001b[0m\u001b[0mdata\u001b[0m\u001b[0;34m,\u001b[0m \u001b[0;34m**\u001b[0m\u001b[0mkwargs\u001b[0m\u001b[0;34m)\u001b[0m\u001b[0;34m]\u001b[0m\u001b[0;34m\u001b[0m\u001b[0;34m\u001b[0m\u001b[0m\n\u001b[0m\u001b[1;32m   1778\u001b[0m         \u001b[0;32mfor\u001b[0m \u001b[0mline\u001b[0m \u001b[0;32min\u001b[0m \u001b[0mlines\u001b[0m\u001b[0;34m:\u001b[0m\u001b[0;34m\u001b[0m\u001b[0;34m\u001b[0m\u001b[0m\n\u001b[1;32m   1779\u001b[0m             \u001b[0mself\u001b[0m\u001b[0;34m.\u001b[0m\u001b[0madd_line\u001b[0m\u001b[0;34m(\u001b[0m\u001b[0mline\u001b[0m\u001b[0;34m)\u001b[0m\u001b[0;34m\u001b[0m\u001b[0;34m\u001b[0m\u001b[0m\n",
            "\u001b[0;32m/usr/local/lib/python3.11/dist-packages/matplotlib/axes/_base.py\u001b[0m in \u001b[0;36m__call__\u001b[0;34m(self, axes, data, return_kwargs, *args, **kwargs)\u001b[0m\n\u001b[1;32m    295\u001b[0m                 \u001b[0mthis\u001b[0m \u001b[0;34m+=\u001b[0m \u001b[0margs\u001b[0m\u001b[0;34m[\u001b[0m\u001b[0;36m0\u001b[0m\u001b[0;34m]\u001b[0m\u001b[0;34m,\u001b[0m\u001b[0;34m\u001b[0m\u001b[0;34m\u001b[0m\u001b[0m\n\u001b[1;32m    296\u001b[0m                 \u001b[0margs\u001b[0m \u001b[0;34m=\u001b[0m \u001b[0margs\u001b[0m\u001b[0;34m[\u001b[0m\u001b[0;36m1\u001b[0m\u001b[0;34m:\u001b[0m\u001b[0;34m]\u001b[0m\u001b[0;34m\u001b[0m\u001b[0;34m\u001b[0m\u001b[0m\n\u001b[0;32m--> 297\u001b[0;31m             yield from self._plot_args(\n\u001b[0m\u001b[1;32m    298\u001b[0m                 \u001b[0maxes\u001b[0m\u001b[0;34m,\u001b[0m \u001b[0mthis\u001b[0m\u001b[0;34m,\u001b[0m \u001b[0mkwargs\u001b[0m\u001b[0;34m,\u001b[0m \u001b[0mambiguous_fmt_datakey\u001b[0m\u001b[0;34m=\u001b[0m\u001b[0mambiguous_fmt_datakey\u001b[0m\u001b[0;34m,\u001b[0m\u001b[0;34m\u001b[0m\u001b[0;34m\u001b[0m\u001b[0m\n\u001b[1;32m    299\u001b[0m                 \u001b[0mreturn_kwargs\u001b[0m\u001b[0;34m=\u001b[0m\u001b[0mreturn_kwargs\u001b[0m\u001b[0;34m\u001b[0m\u001b[0;34m\u001b[0m\u001b[0m\n",
            "\u001b[0;32m/usr/local/lib/python3.11/dist-packages/matplotlib/axes/_base.py\u001b[0m in \u001b[0;36m_plot_args\u001b[0;34m(self, axes, tup, kwargs, return_kwargs, ambiguous_fmt_datakey)\u001b[0m\n\u001b[1;32m    492\u001b[0m \u001b[0;34m\u001b[0m\u001b[0m\n\u001b[1;32m    493\u001b[0m         \u001b[0;32mif\u001b[0m \u001b[0mx\u001b[0m\u001b[0;34m.\u001b[0m\u001b[0mshape\u001b[0m\u001b[0;34m[\u001b[0m\u001b[0;36m0\u001b[0m\u001b[0;34m]\u001b[0m \u001b[0;34m!=\u001b[0m \u001b[0my\u001b[0m\u001b[0;34m.\u001b[0m\u001b[0mshape\u001b[0m\u001b[0;34m[\u001b[0m\u001b[0;36m0\u001b[0m\u001b[0;34m]\u001b[0m\u001b[0;34m:\u001b[0m\u001b[0;34m\u001b[0m\u001b[0;34m\u001b[0m\u001b[0m\n\u001b[0;32m--> 494\u001b[0;31m             raise ValueError(f\"x and y must have same first dimension, but \"\n\u001b[0m\u001b[1;32m    495\u001b[0m                              f\"have shapes {x.shape} and {y.shape}\")\n\u001b[1;32m    496\u001b[0m         \u001b[0;32mif\u001b[0m \u001b[0mx\u001b[0m\u001b[0;34m.\u001b[0m\u001b[0mndim\u001b[0m \u001b[0;34m>\u001b[0m \u001b[0;36m2\u001b[0m \u001b[0;32mor\u001b[0m \u001b[0my\u001b[0m\u001b[0;34m.\u001b[0m\u001b[0mndim\u001b[0m \u001b[0;34m>\u001b[0m \u001b[0;36m2\u001b[0m\u001b[0;34m:\u001b[0m\u001b[0;34m\u001b[0m\u001b[0;34m\u001b[0m\u001b[0m\n",
            "\u001b[0;31mValueError\u001b[0m: x and y must have same first dimension, but have shapes (100,) and (101,)"
          ]
        },
        {
          "output_type": "display_data",
          "data": {
            "text/plain": [
              "<Figure size 640x480 with 1 Axes>"
            ],
            "image/png": "[encoded data removed]"
          },
          "metadata": {}
        }
      ],
      "source": [
        "plt.plot(t, x_euler, color=\"olive\")\n",
        "plt.plot(t, x_heun, color=\"cyan\")\n",
        "plt.plot(t, x_mod, color=\"pink\")\n",
        "plt.plot(t, x_rk4, color=\"green\")\n",
        "plt.plot(t, exact(t), color=\"red\")\n",
        "plt.grid()"
      ],
      "metadata": {
        "id": "dihiEPAsHoHy",
        "outputId": "9512367a-84b3-4642-a494-3aee6f41884d",
        "colab": {
          "base_uri": "https://localhost:8080/",
          "height": 774
        }
      }
    },
    {
      "cell_type": "markdown",
      "metadata": {
        "id": "Ijfi_rJp4NsC"
      },
      "source": [
        "## Zagadnienie 1"
      ]
    },
    {
      "cell_type": "code",
      "source": [
        "def open_euler(f, t, x0, t0, h):\n",
        "    t = np.asarray(t)\n",
        "    n = len(t)\n",
        "    x = np.zeros_like(t)\n",
        "\n",
        "    idx = np.argmin(np.abs(t - t0))\n",
        "    x[idx] = x0\n",
        "\n",
        "    for i in range(idx, n-1):\n",
        "        x[i+1] = x[i] + h * f(t[i], x[i])\n",
        "\n",
        "    for i in range(idx, 0, -1):\n",
        "        x[i-1] = x[i] - h * f(t[i-1], x[i-1])\n",
        "\n",
        "    return x\n",
        "\n",
        "\n",
        "def heun(f, t, x0, t0, h):\n",
        "    t = np.asarray(t)\n",
        "    n = len(t)\n",
        "    if hasattr(x0, \"__len__\"):\n",
        "        x = np.zeros((n, len(x0)))\n",
        "    else:\n",
        "        x = np.zeros(n)\n",
        "\n",
        "    idx = np.argmin(np.abs(t - t0))\n",
        "    x[idx] = x0\n",
        "\n",
        "    for i in range(idx, n-1):\n",
        "        k1 = f(t[i], x[i])\n",
        "        x_pred = x[i] + h * k1\n",
        "\n",
        "        k2 = f(t[i+1], x_pred)\n",
        "        x[i+1] = x[i] + h * (k1 + k2) / 2\n",
        "\n",
        "    for i in range(idx, 0, -1):\n",
        "        # Predictor\n",
        "        k1 = f(t[i], x[i])\n",
        "        x_pred = x[i] - h * k1\n",
        "\n",
        "        # Corrector\n",
        "        k2 = f(t[i-1], x_pred)\n",
        "        x[i-1] = x[i] - h * (k1 + k2) / 2\n",
        "\n",
        "    return x\n",
        "\n",
        "\n",
        "def modified_euler(f, t, x0, t0, h):\n",
        "    t = np.asarray(t)\n",
        "    N = len(t)\n",
        "    x0 = np.asarray(x0)\n",
        "\n",
        "    x = np.zeros((N,) + x0.shape, dtype=x0.dtype)\n",
        "    x[0] = x0\n",
        "\n",
        "    for i in range(N - 1):\n",
        "        k1 = f(t[i], x[i])\n",
        "        x_mid = x[i] + (h/2) * k1\n",
        "        k2 = f(t[i] + h/2, x_mid)\n",
        "        x[i+1] = x[i] + h * k2\n",
        "\n",
        "    return x\n",
        "\n",
        "\n",
        "def rk4(f, t, x0, t0,):\n",
        "    t = np.asarray(t)\n",
        "    N = len(t)\n",
        "    x0 = np.asarray(x0)\n",
        "\n",
        "    x = np.zeros((N,) + x0.shape, dtype=x0.dtype)\n",
        "    x[0] = x0\n",
        "\n",
        "    for i in range(N - 1):\n",
        "        h = t[i+1] - t[i]\n",
        "        ti, xi = t[i], x[i]\n",
        "\n",
        "        k1 = f(ti, xi)\n",
        "        k2 = f(ti + h/2, xi + (h/2) * k1)\n",
        "        k3 = f(ti + h/2, xi + (h/2) * k2)\n",
        "        k4 = f(ti + h,   xi + h * k3)\n",
        "\n",
        "        x[i+1] = xi + (h/6) * (k1 + 2*k2 + 2*k3 + k4)\n",
        "\n",
        "    return x"
      ],
      "metadata": {
        "id": "pMviRthJN0uO"
      },
      "execution_count": 101,
      "outputs": []
    },
    {
      "cell_type": "code",
      "metadata": {
        "id": "25o54yqgQuQS"
      },
      "source": [
        "import math\n",
        "\n",
        "x0 = 1.\n",
        "t0 = 0.\n",
        "n = 100\n",
        "h = 0.01\n",
        "t = 1\n",
        "\n",
        "def exact(t):\n",
        "    return 2 * math.e ** t - t - 1\n",
        "\n",
        "def f(t, x):\n",
        "    return t + x"
      ],
      "execution_count": 102,
      "outputs": []
    },
    {
      "cell_type": "code",
      "metadata": {
        "colab": {
          "base_uri": "https://localhost:8080/",
          "height": 367
        },
        "id": "HUt7_Sq3Q-s-",
        "outputId": "dfb70b27-0800-4c32-91d0-47de4dbe7f94"
      },
      "source": [
        "%%time\n",
        "x_euler = open_euler(f, t, x0, t0, h)"
      ],
      "execution_count": 103,
      "outputs": [
        {
          "output_type": "error",
          "ename": "ValueError",
          "evalue": "diff requires input that is at least one dimensional",
          "traceback": [
            "\u001b[0;31m---------------------------------------------------------------------------\u001b[0m",
            "\u001b[0;31mValueError\u001b[0m                                Traceback (most recent call last)",
            "\u001b[0;32m<timed exec>\u001b[0m in \u001b[0;36m<module>\u001b[0;34m\u001b[0m\n",
            "\u001b[0;32m<ipython-input-101-886614d48d73>\u001b[0m in \u001b[0;36mopen_euler\u001b[0;34m(f, t, x0, t0, h)\u001b[0m\n\u001b[1;32m     15\u001b[0m     \u001b[0;32mif\u001b[0m \u001b[0mt\u001b[0m\u001b[0;34m.\u001b[0m\u001b[0mmin\u001b[0m\u001b[0;34m(\u001b[0m\u001b[0;34m)\u001b[0m \u001b[0;34m<\u001b[0m \u001b[0;36m0\u001b[0m \u001b[0;32mor\u001b[0m \u001b[0mt\u001b[0m\u001b[0;34m.\u001b[0m\u001b[0mmax\u001b[0m\u001b[0;34m(\u001b[0m\u001b[0;34m)\u001b[0m \u001b[0;34m>\u001b[0m \u001b[0;36m1\u001b[0m\u001b[0;34m:\u001b[0m\u001b[0;34m\u001b[0m\u001b[0;34m\u001b[0m\u001b[0m\n\u001b[1;32m     16\u001b[0m         \u001b[0;32mraise\u001b[0m \u001b[0mValueError\u001b[0m\u001b[0;34m(\u001b[0m\u001b[0;34m\"open_euler: all entries of t must lie in [0,1]\"\u001b[0m\u001b[0;34m)\u001b[0m\u001b[0;34m\u001b[0m\u001b[0;34m\u001b[0m\u001b[0m\n\u001b[0;32m---> 17\u001b[0;31m     \u001b[0;32mif\u001b[0m \u001b[0;32mnot\u001b[0m \u001b[0mnp\u001b[0m\u001b[0;34m.\u001b[0m\u001b[0mall\u001b[0m\u001b[0;34m(\u001b[0m\u001b[0mnp\u001b[0m\u001b[0;34m.\u001b[0m\u001b[0mdiff\u001b[0m\u001b[0;34m(\u001b[0m\u001b[0mt\u001b[0m\u001b[0;34m)\u001b[0m \u001b[0;34m>\u001b[0m \u001b[0;36m0\u001b[0m\u001b[0;34m)\u001b[0m\u001b[0;34m:\u001b[0m\u001b[0;34m\u001b[0m\u001b[0;34m\u001b[0m\u001b[0m\n\u001b[0m\u001b[1;32m     18\u001b[0m         \u001b[0;32mraise\u001b[0m \u001b[0mValueError\u001b[0m\u001b[0;34m(\u001b[0m\u001b[0;34m\"open_euler: t must be strictly increasing\"\u001b[0m\u001b[0;34m)\u001b[0m\u001b[0;34m\u001b[0m\u001b[0;34m\u001b[0m\u001b[0m\n\u001b[1;32m     19\u001b[0m     \u001b[0;32mif\u001b[0m \u001b[0;32mnot\u001b[0m \u001b[0;34m(\u001b[0m\u001b[0;36m0\u001b[0m \u001b[0;34m<=\u001b[0m \u001b[0mt0\u001b[0m \u001b[0;34m<=\u001b[0m \u001b[0;36m1\u001b[0m\u001b[0;34m)\u001b[0m\u001b[0;34m:\u001b[0m\u001b[0;34m\u001b[0m\u001b[0;34m\u001b[0m\u001b[0m\n",
            "\u001b[0;32m/usr/local/lib/python3.11/dist-packages/numpy/lib/_function_base_impl.py\u001b[0m in \u001b[0;36mdiff\u001b[0;34m(a, n, axis, prepend, append)\u001b[0m\n\u001b[1;32m   1416\u001b[0m     \u001b[0mnd\u001b[0m \u001b[0;34m=\u001b[0m \u001b[0ma\u001b[0m\u001b[0;34m.\u001b[0m\u001b[0mndim\u001b[0m\u001b[0;34m\u001b[0m\u001b[0;34m\u001b[0m\u001b[0m\n\u001b[1;32m   1417\u001b[0m     \u001b[0;32mif\u001b[0m \u001b[0mnd\u001b[0m \u001b[0;34m==\u001b[0m \u001b[0;36m0\u001b[0m\u001b[0;34m:\u001b[0m\u001b[0;34m\u001b[0m\u001b[0;34m\u001b[0m\u001b[0m\n\u001b[0;32m-> 1418\u001b[0;31m         \u001b[0;32mraise\u001b[0m \u001b[0mValueError\u001b[0m\u001b[0;34m(\u001b[0m\u001b[0;34m\"diff requires input that is at least one dimensional\"\u001b[0m\u001b[0;34m)\u001b[0m\u001b[0;34m\u001b[0m\u001b[0;34m\u001b[0m\u001b[0m\n\u001b[0m\u001b[1;32m   1419\u001b[0m     \u001b[0maxis\u001b[0m \u001b[0;34m=\u001b[0m \u001b[0mnormalize_axis_index\u001b[0m\u001b[0;34m(\u001b[0m\u001b[0maxis\u001b[0m\u001b[0;34m,\u001b[0m \u001b[0mnd\u001b[0m\u001b[0;34m)\u001b[0m\u001b[0;34m\u001b[0m\u001b[0;34m\u001b[0m\u001b[0m\n\u001b[1;32m   1420\u001b[0m \u001b[0;34m\u001b[0m\u001b[0m\n",
            "\u001b[0;31mValueError\u001b[0m: diff requires input that is at least one dimensional"
          ]
        }
      ]
    },
    {
      "cell_type": "code",
      "metadata": {
        "colab": {
          "base_uri": "https://localhost:8080/",
          "height": 245
        },
        "id": "tW06gbBkRhdx",
        "outputId": "2f7c18f7-85bc-4354-b3d4-79d15bc98b74"
      },
      "source": [
        "%%time\n",
        "x_heun = heun(f, t, x0, t0, h)"
      ],
      "execution_count": 96,
      "outputs": [
        {
          "output_type": "error",
          "ename": "TypeError",
          "evalue": "len() of unsized object",
          "traceback": [
            "\u001b[0;31m---------------------------------------------------------------------------\u001b[0m",
            "\u001b[0;31mTypeError\u001b[0m                                 Traceback (most recent call last)",
            "\u001b[0;32m<timed exec>\u001b[0m in \u001b[0;36m<module>\u001b[0;34m\u001b[0m\n",
            "\u001b[0;32m<ipython-input-93-a309701f1f12>\u001b[0m in \u001b[0;36mheun\u001b[0;34m(f, t, x0, t0, h)\u001b[0m\n\u001b[1;32m     18\u001b[0m \u001b[0;32mdef\u001b[0m \u001b[0mheun\u001b[0m\u001b[0;34m(\u001b[0m\u001b[0mf\u001b[0m\u001b[0;34m,\u001b[0m \u001b[0mt\u001b[0m\u001b[0;34m,\u001b[0m \u001b[0mx0\u001b[0m\u001b[0;34m,\u001b[0m \u001b[0mt0\u001b[0m\u001b[0;34m,\u001b[0m \u001b[0mh\u001b[0m\u001b[0;34m)\u001b[0m\u001b[0;34m:\u001b[0m\u001b[0;34m\u001b[0m\u001b[0;34m\u001b[0m\u001b[0m\n\u001b[1;32m     19\u001b[0m     \u001b[0mt\u001b[0m \u001b[0;34m=\u001b[0m \u001b[0mnp\u001b[0m\u001b[0;34m.\u001b[0m\u001b[0masarray\u001b[0m\u001b[0;34m(\u001b[0m\u001b[0mt\u001b[0m\u001b[0;34m)\u001b[0m\u001b[0;34m\u001b[0m\u001b[0;34m\u001b[0m\u001b[0m\n\u001b[0;32m---> 20\u001b[0;31m     \u001b[0mn\u001b[0m \u001b[0;34m=\u001b[0m \u001b[0mlen\u001b[0m\u001b[0;34m(\u001b[0m\u001b[0mt\u001b[0m\u001b[0;34m)\u001b[0m\u001b[0;34m\u001b[0m\u001b[0;34m\u001b[0m\u001b[0m\n\u001b[0m\u001b[1;32m     21\u001b[0m     \u001b[0;32mif\u001b[0m \u001b[0mhasattr\u001b[0m\u001b[0;34m(\u001b[0m\u001b[0mx0\u001b[0m\u001b[0;34m,\u001b[0m \u001b[0;34m\"__len__\"\u001b[0m\u001b[0;34m)\u001b[0m\u001b[0;34m:\u001b[0m\u001b[0;34m\u001b[0m\u001b[0;34m\u001b[0m\u001b[0m\n\u001b[1;32m     22\u001b[0m         \u001b[0mx\u001b[0m \u001b[0;34m=\u001b[0m \u001b[0mnp\u001b[0m\u001b[0;34m.\u001b[0m\u001b[0mzeros\u001b[0m\u001b[0;34m(\u001b[0m\u001b[0;34m(\u001b[0m\u001b[0mn\u001b[0m\u001b[0;34m,\u001b[0m \u001b[0mlen\u001b[0m\u001b[0;34m(\u001b[0m\u001b[0mx0\u001b[0m\u001b[0;34m)\u001b[0m\u001b[0;34m)\u001b[0m\u001b[0;34m)\u001b[0m\u001b[0;34m\u001b[0m\u001b[0;34m\u001b[0m\u001b[0m\n",
            "\u001b[0;31mTypeError\u001b[0m: len() of unsized object"
          ]
        }
      ]
    },
    {
      "cell_type": "code",
      "execution_count": 97,
      "outputs": [
        {
          "output_type": "error",
          "ename": "TypeError",
          "evalue": "len() of unsized object",
          "traceback": [
            "\u001b[0;31m---------------------------------------------------------------------------\u001b[0m",
            "\u001b[0;31mTypeError\u001b[0m                                 Traceback (most recent call last)",
            "\u001b[0;32m<timed exec>\u001b[0m in \u001b[0;36m<module>\u001b[0;34m\u001b[0m\n",
            "\u001b[0;32m<ipython-input-93-a309701f1f12>\u001b[0m in \u001b[0;36mmodified_euler\u001b[0;34m(f, t, x0, t0, h)\u001b[0m\n\u001b[1;32m     48\u001b[0m \u001b[0;32mdef\u001b[0m \u001b[0mmodified_euler\u001b[0m\u001b[0;34m(\u001b[0m\u001b[0mf\u001b[0m\u001b[0;34m,\u001b[0m \u001b[0mt\u001b[0m\u001b[0;34m,\u001b[0m \u001b[0mx0\u001b[0m\u001b[0;34m,\u001b[0m \u001b[0mt0\u001b[0m\u001b[0;34m,\u001b[0m \u001b[0mh\u001b[0m\u001b[0;34m)\u001b[0m\u001b[0;34m:\u001b[0m\u001b[0;34m\u001b[0m\u001b[0;34m\u001b[0m\u001b[0m\n\u001b[1;32m     49\u001b[0m     \u001b[0mt\u001b[0m \u001b[0;34m=\u001b[0m \u001b[0mnp\u001b[0m\u001b[0;34m.\u001b[0m\u001b[0masarray\u001b[0m\u001b[0;34m(\u001b[0m\u001b[0mt\u001b[0m\u001b[0;34m)\u001b[0m\u001b[0;34m\u001b[0m\u001b[0;34m\u001b[0m\u001b[0m\n\u001b[0;32m---> 50\u001b[0;31m     \u001b[0mN\u001b[0m \u001b[0;34m=\u001b[0m \u001b[0mlen\u001b[0m\u001b[0;34m(\u001b[0m\u001b[0mt\u001b[0m\u001b[0;34m)\u001b[0m\u001b[0;34m\u001b[0m\u001b[0;34m\u001b[0m\u001b[0m\n\u001b[0m\u001b[1;32m     51\u001b[0m     \u001b[0mx0\u001b[0m \u001b[0;34m=\u001b[0m \u001b[0mnp\u001b[0m\u001b[0;34m.\u001b[0m\u001b[0masarray\u001b[0m\u001b[0;34m(\u001b[0m\u001b[0mx0\u001b[0m\u001b[0;34m)\u001b[0m\u001b[0;34m\u001b[0m\u001b[0;34m\u001b[0m\u001b[0m\n\u001b[1;32m     52\u001b[0m \u001b[0;34m\u001b[0m\u001b[0m\n",
            "\u001b[0;31mTypeError\u001b[0m: len() of unsized object"
          ]
        }
      ],
      "source": [
        "%%time\n",
        "x_mod = modified_euler(f, t, x0, t0, h)"
      ],
      "metadata": {
        "id": "XA8LubbYHoH3",
        "outputId": "a4c38cab-c19b-4b6a-80b4-615c5cdb20bc",
        "colab": {
          "base_uri": "https://localhost:8080/",
          "height": 245
        }
      }
    },
    {
      "cell_type": "code",
      "execution_count": 98,
      "outputs": [
        {
          "output_type": "error",
          "ename": "TypeError",
          "evalue": "rk4() takes 4 positional arguments but 5 were given",
          "traceback": [
            "\u001b[0;31m---------------------------------------------------------------------------\u001b[0m",
            "\u001b[0;31mTypeError\u001b[0m                                 Traceback (most recent call last)",
            "\u001b[0;32m<timed exec>\u001b[0m in \u001b[0;36m<module>\u001b[0;34m\u001b[0m\n",
            "\u001b[0;31mTypeError\u001b[0m: rk4() takes 4 positional arguments but 5 were given"
          ]
        }
      ],
      "source": [
        "%%time\n",
        "x_rk4 = rk4(f, t, x0, t0, h)"
      ],
      "metadata": {
        "id": "VuVcxfYJHoH3",
        "outputId": "75fd8ef8-dac8-46f9-eb15-943c88b76d5b",
        "colab": {
          "base_uri": "https://localhost:8080/",
          "height": 124
        }
      }
    },
    {
      "cell_type": "code",
      "execution_count": 99,
      "outputs": [
        {
          "output_type": "error",
          "ename": "ValueError",
          "evalue": "x and y must have same first dimension, but have shapes (1,) and (101,)",
          "traceback": [
            "\u001b[0;31m---------------------------------------------------------------------------\u001b[0m",
            "\u001b[0;31mValueError\u001b[0m                                Traceback (most recent call last)",
            "\u001b[0;32m<ipython-input-99-3f57db7ae040>\u001b[0m in \u001b[0;36m<cell line: 0>\u001b[0;34m()\u001b[0m\n\u001b[0;32m----> 1\u001b[0;31m \u001b[0mplt\u001b[0m\u001b[0;34m.\u001b[0m\u001b[0mplot\u001b[0m\u001b[0;34m(\u001b[0m\u001b[0mt\u001b[0m\u001b[0;34m,\u001b[0m \u001b[0mx_euler\u001b[0m\u001b[0;34m,\u001b[0m \u001b[0mcolor\u001b[0m\u001b[0;34m=\u001b[0m\u001b[0;34m\"olive\"\u001b[0m\u001b[0;34m)\u001b[0m\u001b[0;34m\u001b[0m\u001b[0;34m\u001b[0m\u001b[0m\n\u001b[0m\u001b[1;32m      2\u001b[0m \u001b[0mplt\u001b[0m\u001b[0;34m.\u001b[0m\u001b[0mplot\u001b[0m\u001b[0;34m(\u001b[0m\u001b[0mt\u001b[0m\u001b[0;34m,\u001b[0m \u001b[0mx_heun\u001b[0m\u001b[0;34m,\u001b[0m \u001b[0mcolor\u001b[0m\u001b[0;34m=\u001b[0m\u001b[0;34m\"cyan\"\u001b[0m\u001b[0;34m)\u001b[0m\u001b[0;34m\u001b[0m\u001b[0;34m\u001b[0m\u001b[0m\n\u001b[1;32m      3\u001b[0m \u001b[0mplt\u001b[0m\u001b[0;34m.\u001b[0m\u001b[0mplot\u001b[0m\u001b[0;34m(\u001b[0m\u001b[0mt\u001b[0m\u001b[0;34m,\u001b[0m \u001b[0mx_mod\u001b[0m\u001b[0;34m,\u001b[0m \u001b[0mcolor\u001b[0m\u001b[0;34m=\u001b[0m\u001b[0;34m\"pink\"\u001b[0m\u001b[0;34m)\u001b[0m\u001b[0;34m\u001b[0m\u001b[0;34m\u001b[0m\u001b[0m\n\u001b[1;32m      4\u001b[0m \u001b[0mplt\u001b[0m\u001b[0;34m.\u001b[0m\u001b[0mplot\u001b[0m\u001b[0;34m(\u001b[0m\u001b[0mt\u001b[0m\u001b[0;34m,\u001b[0m \u001b[0mx_rk4\u001b[0m\u001b[0;34m,\u001b[0m \u001b[0mcolor\u001b[0m\u001b[0;34m=\u001b[0m\u001b[0;34m\"green\"\u001b[0m\u001b[0;34m)\u001b[0m\u001b[0;34m\u001b[0m\u001b[0;34m\u001b[0m\u001b[0m\n\u001b[1;32m      5\u001b[0m \u001b[0mplt\u001b[0m\u001b[0;34m.\u001b[0m\u001b[0mplot\u001b[0m\u001b[0;34m(\u001b[0m\u001b[0mt\u001b[0m\u001b[0;34m,\u001b[0m \u001b[0mexact\u001b[0m\u001b[0;34m(\u001b[0m\u001b[0mt\u001b[0m\u001b[0;34m)\u001b[0m\u001b[0;34m,\u001b[0m \u001b[0mcolor\u001b[0m\u001b[0;34m=\u001b[0m\u001b[0;34m\"red\"\u001b[0m\u001b[0;34m)\u001b[0m\u001b[0;34m\u001b[0m\u001b[0;34m\u001b[0m\u001b[0m\n",
            "\u001b[0;32m/usr/local/lib/python3.11/dist-packages/matplotlib/pyplot.py\u001b[0m in \u001b[0;36mplot\u001b[0;34m(scalex, scaley, data, *args, **kwargs)\u001b[0m\n\u001b[1;32m   3827\u001b[0m     \u001b[0;34m**\u001b[0m\u001b[0mkwargs\u001b[0m\u001b[0;34m,\u001b[0m\u001b[0;34m\u001b[0m\u001b[0;34m\u001b[0m\u001b[0m\n\u001b[1;32m   3828\u001b[0m ) -> list[Line2D]:\n\u001b[0;32m-> 3829\u001b[0;31m     return gca().plot(\n\u001b[0m\u001b[1;32m   3830\u001b[0m         \u001b[0;34m*\u001b[0m\u001b[0margs\u001b[0m\u001b[0;34m,\u001b[0m\u001b[0;34m\u001b[0m\u001b[0;34m\u001b[0m\u001b[0m\n\u001b[1;32m   3831\u001b[0m         \u001b[0mscalex\u001b[0m\u001b[0;34m=\u001b[0m\u001b[0mscalex\u001b[0m\u001b[0;34m,\u001b[0m\u001b[0;34m\u001b[0m\u001b[0;34m\u001b[0m\u001b[0m\n",
            "\u001b[0;32m/usr/local/lib/python3.11/dist-packages/matplotlib/axes/_axes.py\u001b[0m in \u001b[0;36mplot\u001b[0;34m(self, scalex, scaley, data, *args, **kwargs)\u001b[0m\n\u001b[1;32m   1775\u001b[0m         \"\"\"\n\u001b[1;32m   1776\u001b[0m         \u001b[0mkwargs\u001b[0m \u001b[0;34m=\u001b[0m \u001b[0mcbook\u001b[0m\u001b[0;34m.\u001b[0m\u001b[0mnormalize_kwargs\u001b[0m\u001b[0;34m(\u001b[0m\u001b[0mkwargs\u001b[0m\u001b[0;34m,\u001b[0m \u001b[0mmlines\u001b[0m\u001b[0;34m.\u001b[0m\u001b[0mLine2D\u001b[0m\u001b[0;34m)\u001b[0m\u001b[0;34m\u001b[0m\u001b[0;34m\u001b[0m\u001b[0m\n\u001b[0;32m-> 1777\u001b[0;31m         \u001b[0mlines\u001b[0m \u001b[0;34m=\u001b[0m \u001b[0;34m[\u001b[0m\u001b[0;34m*\u001b[0m\u001b[0mself\u001b[0m\u001b[0;34m.\u001b[0m\u001b[0m_get_lines\u001b[0m\u001b[0;34m(\u001b[0m\u001b[0mself\u001b[0m\u001b[0;34m,\u001b[0m \u001b[0;34m*\u001b[0m\u001b[0margs\u001b[0m\u001b[0;34m,\u001b[0m \u001b[0mdata\u001b[0m\u001b[0;34m=\u001b[0m\u001b[0mdata\u001b[0m\u001b[0;34m,\u001b[0m \u001b[0;34m**\u001b[0m\u001b[0mkwargs\u001b[0m\u001b[0;34m)\u001b[0m\u001b[0;34m]\u001b[0m\u001b[0;34m\u001b[0m\u001b[0;34m\u001b[0m\u001b[0m\n\u001b[0m\u001b[1;32m   1778\u001b[0m         \u001b[0;32mfor\u001b[0m \u001b[0mline\u001b[0m \u001b[0;32min\u001b[0m \u001b[0mlines\u001b[0m\u001b[0;34m:\u001b[0m\u001b[0;34m\u001b[0m\u001b[0;34m\u001b[0m\u001b[0m\n\u001b[1;32m   1779\u001b[0m             \u001b[0mself\u001b[0m\u001b[0;34m.\u001b[0m\u001b[0madd_line\u001b[0m\u001b[0;34m(\u001b[0m\u001b[0mline\u001b[0m\u001b[0;34m)\u001b[0m\u001b[0;34m\u001b[0m\u001b[0;34m\u001b[0m\u001b[0m\n",
            "\u001b[0;32m/usr/local/lib/python3.11/dist-packages/matplotlib/axes/_base.py\u001b[0m in \u001b[0;36m__call__\u001b[0;34m(self, axes, data, return_kwargs, *args, **kwargs)\u001b[0m\n\u001b[1;32m    295\u001b[0m                 \u001b[0mthis\u001b[0m \u001b[0;34m+=\u001b[0m \u001b[0margs\u001b[0m\u001b[0;34m[\u001b[0m\u001b[0;36m0\u001b[0m\u001b[0;34m]\u001b[0m\u001b[0;34m,\u001b[0m\u001b[0;34m\u001b[0m\u001b[0;34m\u001b[0m\u001b[0m\n\u001b[1;32m    296\u001b[0m                 \u001b[0margs\u001b[0m \u001b[0;34m=\u001b[0m \u001b[0margs\u001b[0m\u001b[0;34m[\u001b[0m\u001b[0;36m1\u001b[0m\u001b[0;34m:\u001b[0m\u001b[0;34m]\u001b[0m\u001b[0;34m\u001b[0m\u001b[0;34m\u001b[0m\u001b[0m\n\u001b[0;32m--> 297\u001b[0;31m             yield from self._plot_args(\n\u001b[0m\u001b[1;32m    298\u001b[0m                 \u001b[0maxes\u001b[0m\u001b[0;34m,\u001b[0m \u001b[0mthis\u001b[0m\u001b[0;34m,\u001b[0m \u001b[0mkwargs\u001b[0m\u001b[0;34m,\u001b[0m \u001b[0mambiguous_fmt_datakey\u001b[0m\u001b[0;34m=\u001b[0m\u001b[0mambiguous_fmt_datakey\u001b[0m\u001b[0;34m,\u001b[0m\u001b[0;34m\u001b[0m\u001b[0;34m\u001b[0m\u001b[0m\n\u001b[1;32m    299\u001b[0m                 \u001b[0mreturn_kwargs\u001b[0m\u001b[0;34m=\u001b[0m\u001b[0mreturn_kwargs\u001b[0m\u001b[0;34m\u001b[0m\u001b[0;34m\u001b[0m\u001b[0m\n",
            "\u001b[0;32m/usr/local/lib/python3.11/dist-packages/matplotlib/axes/_base.py\u001b[0m in \u001b[0;36m_plot_args\u001b[0;34m(self, axes, tup, kwargs, return_kwargs, ambiguous_fmt_datakey)\u001b[0m\n\u001b[1;32m    492\u001b[0m \u001b[0;34m\u001b[0m\u001b[0m\n\u001b[1;32m    493\u001b[0m         \u001b[0;32mif\u001b[0m \u001b[0mx\u001b[0m\u001b[0;34m.\u001b[0m\u001b[0mshape\u001b[0m\u001b[0;34m[\u001b[0m\u001b[0;36m0\u001b[0m\u001b[0;34m]\u001b[0m \u001b[0;34m!=\u001b[0m \u001b[0my\u001b[0m\u001b[0;34m.\u001b[0m\u001b[0mshape\u001b[0m\u001b[0;34m[\u001b[0m\u001b[0;36m0\u001b[0m\u001b[0;34m]\u001b[0m\u001b[0;34m:\u001b[0m\u001b[0;34m\u001b[0m\u001b[0;34m\u001b[0m\u001b[0m\n\u001b[0;32m--> 494\u001b[0;31m             raise ValueError(f\"x and y must have same first dimension, but \"\n\u001b[0m\u001b[1;32m    495\u001b[0m                              f\"have shapes {x.shape} and {y.shape}\")\n\u001b[1;32m    496\u001b[0m         \u001b[0;32mif\u001b[0m \u001b[0mx\u001b[0m\u001b[0;34m.\u001b[0m\u001b[0mndim\u001b[0m \u001b[0;34m>\u001b[0m \u001b[0;36m2\u001b[0m \u001b[0;32mor\u001b[0m \u001b[0my\u001b[0m\u001b[0;34m.\u001b[0m\u001b[0mndim\u001b[0m \u001b[0;34m>\u001b[0m \u001b[0;36m2\u001b[0m\u001b[0;34m:\u001b[0m\u001b[0;34m\u001b[0m\u001b[0;34m\u001b[0m\u001b[0m\n",
            "\u001b[0;31mValueError\u001b[0m: x and y must have same first dimension, but have shapes (1,) and (101,)"
          ]
        },
        {
          "output_type": "display_data",
          "data": {
            "text/plain": [
              "<Figure size 640x480 with 1 Axes>"
            ],
            "image/png": "[encoded data removed]"
          },
          "metadata": {}
        }
      ],
      "source": [
        "plt.plot(t, x_euler, color=\"olive\")\n",
        "plt.plot(t, x_heun, color=\"cyan\")\n",
        "plt.plot(t, x_mod, color=\"pink\")\n",
        "plt.plot(t, x_rk4, color=\"green\")\n",
        "plt.plot(t, exact(t), color=\"red\")\n",
        "plt.grid()"
      ],
      "metadata": {
        "id": "pCiIw1byHoH4",
        "outputId": "ff571751-3c5b-4c48-a171-c526cf5f8313",
        "colab": {
          "base_uri": "https://localhost:8080/",
          "height": 774
        }
      }
    },
    {
      "cell_type": "markdown",
      "source": [
        "## Zagadnienie 2"
      ],
      "metadata": {
        "collapsed": false,
        "id": "p_5E1tyDHoH4"
      }
    },
    {
      "cell_type": "code",
      "execution_count": 33,
      "outputs": [],
      "source": [
        "import math\n",
        "\n",
        "x0 = 1.\n",
        "t0 = 0.\n",
        "n = 100\n",
        "\n",
        "def exact(t):\n",
        "    return 1 / (1 + t)\n",
        "\n",
        "def f(t, x):\n",
        "    return -x**2"
      ],
      "metadata": {
        "id": "xZYS-rYQHoH5"
      }
    },
    {
      "cell_type": "code",
      "execution_count": 34,
      "outputs": [
        {
          "output_type": "stream",
          "name": "stdout",
          "text": [
            "CPU times: user 654 µs, sys: 0 ns, total: 654 µs\n",
            "Wall time: 644 µs\n"
          ]
        }
      ],
      "source": [
        "%%time\n",
        "x_euler = open_euler(f, t, x0, t0)"
      ],
      "metadata": {
        "id": "KRGLtjEAHoH6",
        "outputId": "b68392ab-b89c-45ac-d1a0-10c9229de0db",
        "colab": {
          "base_uri": "https://localhost:8080/"
        }
      }
    },
    {
      "cell_type": "code",
      "execution_count": 35,
      "outputs": [
        {
          "output_type": "stream",
          "name": "stdout",
          "text": [
            "CPU times: user 249 µs, sys: 31 µs, total: 280 µs\n",
            "Wall time: 271 µs\n"
          ]
        }
      ],
      "source": [
        "%%time\n",
        "x_heun = heun(f, t, x0, t0)"
      ],
      "metadata": {
        "id": "YlvOesvhHoH7",
        "outputId": "26980aba-4d91-4274-d45b-986f4c5667fb",
        "colab": {
          "base_uri": "https://localhost:8080/"
        }
      }
    },
    {
      "cell_type": "code",
      "execution_count": 36,
      "outputs": [
        {
          "output_type": "stream",
          "name": "stdout",
          "text": [
            "CPU times: user 364 µs, sys: 0 ns, total: 364 µs\n",
            "Wall time: 372 µs\n"
          ]
        }
      ],
      "source": [
        "%%time\n",
        "x_mod = modified_euler(f, t, x0, t0)"
      ],
      "metadata": {
        "id": "nvu1eFIDHoH7",
        "outputId": "2bd43263-a812-484e-84cf-bbbe1495e7c3",
        "colab": {
          "base_uri": "https://localhost:8080/"
        }
      }
    },
    {
      "cell_type": "code",
      "execution_count": 37,
      "outputs": [
        {
          "output_type": "stream",
          "name": "stdout",
          "text": [
            "CPU times: user 644 µs, sys: 0 ns, total: 644 µs\n",
            "Wall time: 650 µs\n"
          ]
        }
      ],
      "source": [
        "%%time\n",
        "x_rk4 = rk4(f, t, x0, t0)"
      ],
      "metadata": {
        "id": "DTz-ttR8HoH7",
        "outputId": "d5299449-8762-4718-9839-ceb2c4819617",
        "colab": {
          "base_uri": "https://localhost:8080/"
        }
      }
    },
    {
      "cell_type": "code",
      "execution_count": 38,
      "outputs": [
        {
          "output_type": "display_data",
          "data": {
            "text/plain": [
              "<Figure size 640x480 with 1 Axes>"
            ],
            "image/png": "[encoded data removed]"
          },
          "metadata": {}
        }
      ],
      "source": [
        "plt.plot(t, x_euler, color=\"olive\")\n",
        "plt.plot(t, x_heun, color=\"cyan\")\n",
        "plt.plot(t, x_mod, color=\"pink\")\n",
        "plt.plot(t, x_rk4, color=\"green\")\n",
        "plt.plot(t, exact(t), color=\"red\")\n",
        "plt.grid()"
      ],
      "metadata": {
        "id": "feRyqxCyHoH9",
        "outputId": "523ce22c-3de4-410b-ff04-d4c8f0cf099e",
        "colab": {
          "base_uri": "https://localhost:8080/",
          "height": 430
        }
      }
    },
    {
      "cell_type": "markdown",
      "source": [
        "## Zagadnienie 3"
      ],
      "metadata": {
        "collapsed": false,
        "id": "_6p7kycjHoH9"
      }
    },
    {
      "cell_type": "code",
      "execution_count": 74,
      "outputs": [],
      "source": [
        "import math\n",
        "\n",
        "x0 = 0.08\n",
        "t0 = 1\n",
        "n = 100\n",
        "h = 0.01\n",
        "\n",
        "def exact(t):\n",
        "    return t**2 + 0.4 * t + 0.08\n",
        "\n",
        "def f(t, x):\n",
        "    return 5 * (x - t**2)"
      ],
      "metadata": {
        "id": "PJt3GbM7HoH9"
      }
    },
    {
      "cell_type": "code",
      "execution_count": 75,
      "outputs": [
        {
          "output_type": "stream",
          "name": "stdout",
          "text": [
            "CPU times: user 208 µs, sys: 26 µs, total: 234 µs\n",
            "Wall time: 226 µs\n"
          ]
        }
      ],
      "source": [
        "%%time\n",
        "x_euler = open_euler(f, t, x0, t0, h)"
      ],
      "metadata": {
        "id": "Le4tsINuHoH9",
        "outputId": "76c05c81-0823-44f9-f993-094599cbc55a",
        "colab": {
          "base_uri": "https://localhost:8080/"
        }
      }
    },
    {
      "cell_type": "code",
      "execution_count": 76,
      "outputs": [
        {
          "output_type": "stream",
          "name": "stdout",
          "text": [
            "CPU times: user 347 µs, sys: 0 ns, total: 347 µs\n",
            "Wall time: 338 µs\n"
          ]
        }
      ],
      "source": [
        "%%time\n",
        "x_heun = heun(f, t, x0, t0, h)"
      ],
      "metadata": {
        "id": "cwUBVmAkHoH_",
        "outputId": "9469b540-dcbf-40d1-ec09-24bf84e21ad5",
        "colab": {
          "base_uri": "https://localhost:8080/"
        }
      }
    },
    {
      "cell_type": "code",
      "execution_count": 77,
      "outputs": [
        {
          "output_type": "stream",
          "name": "stdout",
          "text": [
            "CPU times: user 229 µs, sys: 0 ns, total: 229 µs\n",
            "Wall time: 232 µs\n"
          ]
        }
      ],
      "source": [
        "%%time\n",
        "x_mod = modified_euler(f, t, x0, t0, h)"
      ],
      "metadata": {
        "id": "GGYfymK7HoH_",
        "outputId": "43074653-dbf1-4c6b-fd28-b2dd230b6d6b",
        "colab": {
          "base_uri": "https://localhost:8080/"
        }
      }
    },
    {
      "cell_type": "code",
      "execution_count": 78,
      "outputs": [
        {
          "output_type": "stream",
          "name": "stdout",
          "text": [
            "CPU times: user 283 µs, sys: 36 µs, total: 319 µs\n",
            "Wall time: 322 µs\n"
          ]
        }
      ],
      "source": [
        "%%time\n",
        "x_rk4 = rk4(f, t, x0, t0, h)"
      ],
      "metadata": {
        "id": "fIPzsTF7HoIA",
        "outputId": "a19f6ba2-c944-41fd-e650-29b1872f92b5",
        "colab": {
          "base_uri": "https://localhost:8080/"
        }
      }
    },
    {
      "cell_type": "code",
      "execution_count": 79,
      "outputs": [
        {
          "output_type": "display_data",
          "data": {
            "text/plain": [
              "<Figure size 640x480 with 1 Axes>"
            ],
            "image/png": "[encoded data removed]"
          },
          "metadata": {}
        }
      ],
      "source": [
        "plt.plot(t, x_euler, color=\"olive\")\n",
        "plt.plot(t, x_heun, color=\"cyan\")\n",
        "plt.plot(t, x_mod, color=\"pink\")\n",
        "plt.plot(t, x_rk4, color=\"green\")\n",
        "plt.plot(t, exact(t), color=\"red\")\n",
        "plt.grid()"
      ],
      "metadata": {
        "id": "udkHNHCFHoIB",
        "outputId": "ada621ec-5b8f-4009-ad96-0ede312d6364",
        "colab": {
          "base_uri": "https://localhost:8080/",
          "height": 430
        }
      }
    },
    {
      "cell_type": "code",
      "execution_count": 61,
      "outputs": [],
      "source": [],
      "metadata": {
        "id": "pO_moNRQHoIB"
      }
    }
  ]
}